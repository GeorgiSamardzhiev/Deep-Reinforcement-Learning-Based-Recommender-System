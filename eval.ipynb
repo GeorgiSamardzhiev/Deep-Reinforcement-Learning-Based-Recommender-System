{
  "nbformat": 4,
  "nbformat_minor": 0,
  "metadata": {
    "colab": {
      "name": "eval.ipynb",
      "provenance": []
    },
    "kernelspec": {
      "name": "python3",
      "display_name": "Python 3"
    },
    "language_info": {
      "name": "python"
    }
  },
  "cells": [
    {
      "cell_type": "code",
      "metadata": {
        "id": "Bb0Fk5kf_u-E"
      },
      "source": [
        "!pip install scikit-surprise\n",
        "!pip install import-ipynb"
      ],
      "execution_count": null,
      "outputs": []
    },
    {
      "cell_type": "code",
      "metadata": {
        "id": "SLrUzyn-_vAc"
      },
      "source": [
        "import numpy as np\n",
        "import pandas as pd\n",
        "import random\n",
        "from sklearn.metrics import ndcg_score, precision_score\n",
        "from surprise import Dataset\n",
        "import torch\n",
        "import torch.nn as nn\n",
        "import import_ipynb\n",
        "from full_notebook import Recommender, Env, UserMovieEmbedding"
      ],
      "execution_count": null,
      "outputs": []
    },
    {
      "cell_type": "code",
      "metadata": {
        "id": "oZa-Pw8p_vCf"
      },
      "source": [
        "data = Dataset.load_builtin('ml-1m')\n",
        "\n",
        "df = pd.DataFrame(data.raw_ratings, columns = ['UserId', 'MovieId', 'Rating',  'Timestamp'], dtype='int32')\n",
        "df = df.astype('int32')\n",
        "users = df['UserId'].unique()\n",
        "items = df['MovieId'].unique()\n",
        "\n",
        "users_dict = np.load('user_dict.npy', allow_pickle=True).item()\n",
        "users_history_lens = np.load('users_histroy_len.npy')\n",
        "\n",
        "users_num = max(df[\"UserId\"])+1\n",
        "items_num = max(df[\"MovieId\"])+1\n",
        "\n",
        "eval_users_num = int(users_num * 0.2)\n",
        "eval_items_num = items_num\n",
        "\n",
        "eval_users_dict = {k:users_dict[k] for k in range(users_num-eval_users_num, users_num)}\n",
        "eval_users_history_lens = users_history_lens[-eval_users_num:]"
      ],
      "execution_count": null,
      "outputs": []
    },
    {
      "cell_type": "code",
      "metadata": {
        "id": "WS8GiFec_vEv"
      },
      "source": [
        "def evaluate(recommender, env, top_k=False):\n",
        "  episode_rewards = []\n",
        "  steps = 0\n",
        "  mean_precision = 0\n",
        "  mean_ndcg = 0\n",
        "  user_id, items_ids, done = env.reset()\n",
        "  hit_miss = []\n",
        "  EMBEDDING_DIM = 100\n",
        "  embedding_network = UserMovieEmbedding(users_num,items_num, EMBEDDING_DIM)\n",
        "\n",
        "  while not done:\n",
        "    # Observe current state & Find action\n",
        "    user_embedding = embedding_network.u(torch.LongTensor([user_id]))\n",
        "    item_embeddings = embedding_network.m(torch.LongTensor(list(items_ids)))\n",
        "\n",
        "    state = recommender.state_repr(item_embeddings.unsqueeze(1), user_embedding)\n",
        "\n",
        "    ## Action and recommended item\n",
        "    action = recommender.actor.local_network(state)\n",
        "    recommended_item = recommender.recommend_item(action, item_embeddings, items_ids, top_k=top_k)\n",
        "\n",
        "    # Calculate reward & observe new state (in env)\n",
        "    next_items_ids, reward, done, _ = env.step(recommended_item, top_k=top_k)\n",
        "    if top_k:\n",
        "      correct_list = [1 if r > 0 else 0 for r in reward]\n",
        "      list_of_ones = [1] * top_k\n",
        "      mean_ndcg += ndcg_score(correct_list, list_of_ones)\n",
        "      mean_precision +=  precision_score(correct_list, list_of_ones)  \n",
        "      hit_miss += correct_list\n",
        "    else:\n",
        "      hit_miss += [1 if reward > 0 else 0]\n",
        "\n",
        "    items_ids = next_items_ids\n",
        "    episode_rewards += np.sum(reward)\n",
        "    steps += 1\n",
        "\n",
        "  if top_k:\n",
        "    return mean_precision/steps, mean_ndcg/steps\n",
        "\n",
        "  list_of_ones = [1]*steps\n",
        "\n",
        "  return np.mean(episode_rewards), precision_score(hit_miss, list_of_ones), ndcg_score(hit_miss, list_of_ones)\n"
      ],
      "execution_count": null,
      "outputs": []
    },
    {
      "cell_type": "code",
      "metadata": {
        "id": "wkEvBgd4_vGu"
      },
      "source": [
        "STATE_SIZE = 10\n",
        "MAX_EPISODE_NUM = 8000\n",
        "STATE_SIZE = 10"
      ],
      "execution_count": null,
      "outputs": []
    },
    {
      "cell_type": "code",
      "metadata": {
        "id": "_jSrVOQ-_vJW"
      },
      "source": [
        "sum_precision = 0\n",
        "sum_ndcg = 0\n",
        "\n",
        "for user_id in eval_users_dict.keys():\n",
        "    env = Env(eval_users_dict, users_history_lens, STATE_SIZE, fix_user_id=user_id)\n",
        "    recommender = Recommender (env, users, items, STATE_SIZE)\n",
        "    # recommender.load_model('') HERE LOAD THE MODEL FOR ACTOR AND CRITIC\n",
        "    precision, ndcg = evaluate(recommender, env)\n",
        "    sum_precision += precision\n",
        "    sum_ndcg += ndcg\n",
        "    \n",
        "print(f'precision@{TOP_K} : {sum_precision/len(eval_users_dict)}, ndcg@{TOP_K} : {sum_ndcg/len(eval_users_dict)}')"
      ],
      "execution_count": null,
      "outputs": []
    }
  ]
}