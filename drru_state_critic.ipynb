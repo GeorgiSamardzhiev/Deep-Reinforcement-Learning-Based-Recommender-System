{
  "nbformat": 4,
  "nbformat_minor": 0,
  "metadata": {
    "colab": {
      "name": "drru_state_critic.ipynb",
      "provenance": [],
      "collapsed_sections": []
    },
    "kernelspec": {
      "name": "python3",
      "display_name": "Python 3"
    },
    "language_info": {
      "name": "python"
    }
  },
  "cells": [
    {
      "cell_type": "code",
      "metadata": {
        "colab": {
          "base_uri": "https://localhost:8080/"
        },
        "id": "0P6UT1UAjIrA",
        "outputId": "fd98a493-5c56-40fc-d88b-b93d96c0b35a"
      },
      "source": [
        "!pip install scikit-surprise"
      ],
      "execution_count": 47,
      "outputs": [
        {
          "output_type": "stream",
          "text": [
            "Requirement already satisfied: scikit-surprise in /usr/local/lib/python3.7/dist-packages (1.1.1)\n",
            "Requirement already satisfied: numpy>=1.11.2 in /usr/local/lib/python3.7/dist-packages (from scikit-surprise) (1.19.5)\n",
            "Requirement already satisfied: six>=1.10.0 in /usr/local/lib/python3.7/dist-packages (from scikit-surprise) (1.15.0)\n",
            "Requirement already satisfied: scipy>=1.0.0 in /usr/local/lib/python3.7/dist-packages (from scikit-surprise) (1.4.1)\n",
            "Requirement already satisfied: joblib>=0.11 in /usr/local/lib/python3.7/dist-packages (from scikit-surprise) (1.0.1)\n"
          ],
          "name": "stdout"
        }
      ]
    },
    {
      "cell_type": "code",
      "metadata": {
        "id": "-4HBqF5Vj8Gj"
      },
      "source": [
        "from surprise import Dataset\n",
        "import torch\n",
        "import torch.nn as nn\n",
        "import numpy as np\n",
        "\n",
        "data = Dataset.load_builtin('ml-1m')"
      ],
      "execution_count": 48,
      "outputs": []
    },
    {
      "cell_type": "code",
      "metadata": {
        "id": "u0nKitiS0Wfe"
      },
      "source": [
        "import pandas as pd\n",
        "\n",
        "df = pd.DataFrame(data.raw_ratings)"
      ],
      "execution_count": 49,
      "outputs": []
    },
    {
      "cell_type": "code",
      "metadata": {
        "colab": {
          "base_uri": "https://localhost:8080/"
        },
        "id": "nt1PVKwl2h39",
        "outputId": "9889ec5a-6c08-4257-9bea-a43ad8d75dac"
      },
      "source": [
        "len(df[1])"
      ],
      "execution_count": null,
      "outputs": [
        {
          "output_type": "execute_result",
          "data": {
            "text/plain": [
              "1000209"
            ]
          },
          "metadata": {
            "tags": []
          },
          "execution_count": 6
        }
      ]
    },
    {
      "cell_type": "code",
      "metadata": {
        "id": "3CqVA9ye4r_0"
      },
      "source": [
        "class Env():\n",
        "  def __init__(self, user_item_matrix, num_users, num_items, N):\n",
        "    self.matrix = user_item_matrix\n",
        "    self.num_items = num_items\n",
        "    self.memory = np.ones([num_users, N]) * num_items\n",
        "\n",
        "  def reset(self, user_id):\n",
        "    self.user_id = user_id\n",
        "    self.viewed_items = []\n",
        "    self.related_items = np.argwhere()"
      ],
      "execution_count": null,
      "outputs": []
    },
    {
      "cell_type": "code",
      "metadata": {
        "id": "VRxk_2UGi2Ox"
      },
      "source": [
        "users = df[0].unique()\n",
        "items = df[1].unique()"
      ],
      "execution_count": 50,
      "outputs": []
    },
    {
      "cell_type": "code",
      "metadata": {
        "id": "Hon5eBAB6PhH"
      },
      "source": [
        "class UserMovieEmbedding(nn.Module):\n",
        "    def __init__(self, users_count, items_count, embedding_dim):\n",
        "        super().__init__()\n",
        "        self.user_embeddings = nn.Embedding(users_count, embedding_dim)\n",
        "        self.item_embeddings = nn.Embedding(items_count, embedding_dim)\n",
        "        \n",
        "    def forward(self, user, items):\n",
        "        user_embedding = self.user_embeddings(user)\n",
        "        item_embeddings = self.item_embeddings(items)\n",
        "        return user_embedding, item_embeddings"
      ],
      "execution_count": 51,
      "outputs": []
    },
    {
      "cell_type": "code",
      "metadata": {
        "id": "gnTeb0na68E2"
      },
      "source": [
        "user = 1\n",
        "\n",
        "itemsForFirstUser = torch.LongTensor(df[df[0]==str(user)][1].to_numpy(dtype = float))\n",
        "embedding_dim = len(itemsForFirstUser)\n",
        "\n",
        "user_movie_embedding = UserMovieEmbedding(len(users), len(items), embedding_dim)\n",
        "user_embedding, item_embeddings = user_movie_embedding(torch.LongTensor([user]),  torch.LongTensor(np.expand_dims(itemsForFirstUser, axis=0)))\n",
        "\n",
        "item_embeddings = item_embeddings.permute(1,0,2)"
      ],
      "execution_count": 52,
      "outputs": []
    },
    {
      "cell_type": "code",
      "metadata": {
        "id": "cJqX17WS84uj"
      },
      "source": [
        "class InnerProductLayer(nn.Module):\n",
        "    \"\"\"InnerProduct Layer used in PNN that compute the element-wise\n",
        "    product or inner product between feature vectors.\n",
        "      Input shape\n",
        "        - a list of 3D tensor with shape: ``(batch_size,1,embedding_size)``.\n",
        "      Output shape\n",
        "        - 3D tensor with shape: ``(batch_size, N*(N-1)/2 ,1)`` if use reduce_sum. or 3D tensor with shape:\n",
        "        ``(batch_size, N*(N-1)/2, embedding_size )`` if not use reduce_sum.\n",
        "      Arguments\n",
        "        - **reduce_sum**: bool. Whether return inner product or element-wise product\n",
        "      References\n",
        "            - [Qu Y, Cai H, Ren K, et al. Product-based neural networks for user response prediction[C]//\n",
        "            Data Mining (ICDM), 2016 IEEE 16th International Conference on. IEEE, 2016: 1149-1154.]\n",
        "            (https://arxiv.org/pdf/1611.00144.pdf)\"\"\"\n",
        "\n",
        "    def __init__(self, num_inputs, device='cpu'):\n",
        "        super(InnerProductLayer, self).__init__()\n",
        "        self.W = nn.Parameter(torch.diag(torch.rand((num_inputs,1))))\n",
        "        self.W.requires_grad = True\n",
        "        self.to(device)\n",
        "\n",
        "    def forward(self, inputs, user):\n",
        "\n",
        "        embed_list = inputs\n",
        "        row = []\n",
        "        col = []\n",
        "        num_inputs = len(embed_list)\n",
        "\n",
        "        print('num_inputs', num_inputs)\n",
        "\n",
        "        embed_list = torch.matmul(self.W, embed_list)\n",
        "        embed_list = embed_list.unsqueeze(1)\n",
        "\n",
        "        for i in range(num_inputs - 1):\n",
        "            for j in range(i + 1, num_inputs):\n",
        "                row.append(i)\n",
        "                col.append(j)\n",
        "\n",
        "        p = torch.cat([embed_list[idx]\n",
        "                       for idx in row], dim=1)  # batch num_pairs k\n",
        "        q = torch.cat([embed_list[idx]\n",
        "                       for idx in col], dim=1)\n",
        "\n",
        "        u = user * embed_list\n",
        "\n",
        "        inner_product = p * q\n",
        "\n",
        "        u = u.reshape(-1).unsqueeze(0)\n",
        "        result = torch.cat((u, inner_product), dim=1)\n",
        "        print('result: ', result)\n",
        "        return result"
      ],
      "execution_count": 62,
      "outputs": []
    },
    {
      "cell_type": "code",
      "metadata": {
        "id": "caEplGZgLDxt"
      },
      "source": [
        "class Critic(nn.Module):\n",
        "  def __init__(self, state_size, action_size):\n",
        "    super(Critic, self).__init__()\n",
        "\n",
        "    self.lin1 = nn.Linear(state_size, state_size)\n",
        "    self.lin2 = nn.Linear(state_size+action_size, state_size)\n",
        "    self.lin3 = nn.Linear(state_size, 1)\n",
        "\n",
        "    self.relu = nn.ReLU()\n",
        "\n",
        "  def forward(self, action, state):\n",
        "    state = self.relu(self.lin1(state))\n",
        "    input_concat = torch.cat((action, state), dim=1)\n",
        "\n",
        "    x = self.lin2(input_concat)\n",
        "    x = self.relu(x)\n",
        "    x = self.lin3(x)\n",
        "    x = self.relu(x)\n",
        "\n",
        "    return x"
      ],
      "execution_count": 76,
      "outputs": []
    },
    {
      "cell_type": "code",
      "metadata": {
        "id": "dp-x2pBU9LKq",
        "colab": {
          "base_uri": "https://localhost:8080/"
        },
        "outputId": "deb003bc-6282-4516-b969-97d746dbcbb7"
      },
      "source": [
        "product_layer = InnerProductLayer(num_inputs=item_embeddings.shape[0])\n",
        "\n",
        "state_representation = product_layer(item_embeddings[:10], user_embedding)\n",
        "print(state_representation.shape)"
      ],
      "execution_count": 70,
      "outputs": [
        {
          "output_type": "stream",
          "text": [
            "num_inputs 10\n",
            "result:  tensor([[-0.1525, -0.5123, -0.3211,  ..., -1.6515,  0.1273, -0.3380]],\n",
            "       grad_fn=<CatBackward>)\n",
            "torch.Size([1, 2915])\n"
          ],
          "name": "stdout"
        }
      ]
    },
    {
      "cell_type": "code",
      "metadata": {
        "colab": {
          "base_uri": "https://localhost:8080/"
        },
        "id": "7B2-dQIvYiQp",
        "outputId": "bc9efe8c-6742-471a-a803-458893c485d8"
      },
      "source": [
        "mock_action = torch.rand((1,embedding_dim))\n",
        "print(mock_action.shape)\n",
        "\n",
        "critic = Critic(state_representation.shape[1], mock_action.shape[1])\n",
        "Q_value = critic(mock_action, state_representation)\n",
        "\n",
        "print(Q_value)"
      ],
      "execution_count": 77,
      "outputs": [
        {
          "output_type": "stream",
          "text": [
            "torch.Size([1, 53])\n",
            "tensor([[0.0148]], grad_fn=<ReluBackward0>)\n"
          ],
          "name": "stdout"
        }
      ]
    }
  ]
}