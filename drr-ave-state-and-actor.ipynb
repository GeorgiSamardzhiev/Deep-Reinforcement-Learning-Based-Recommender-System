{
 "cells": [
  {
   "cell_type": "code",
   "execution_count": 1,
   "id": "japanese-shirt",
   "metadata": {},
   "outputs": [],
   "source": [
    "from surprise import Dataset\n",
    "import pandas as pd\n",
    "import numpy as np\n",
    "import torch\n",
    "import torch.nn as nn\n",
    "import torch.nn.functional as F"
   ]
  },
  {
   "cell_type": "code",
   "execution_count": 2,
   "id": "fewer-vacuum",
   "metadata": {},
   "outputs": [],
   "source": [
    "data = Dataset.load_builtin('ml-1m')\n",
    "df = pd.DataFrame(data.raw_ratings)"
   ]
  },
  {
   "cell_type": "code",
   "execution_count": 3,
   "id": "furnished-adrian",
   "metadata": {},
   "outputs": [],
   "source": [
    "users = df[0].unique()\n",
    "items = df[1].unique()"
   ]
  },
  {
   "cell_type": "code",
   "execution_count": 4,
   "id": "needed-tooth",
   "metadata": {},
   "outputs": [],
   "source": [
    "class UserMovieEmbedding(nn.Module):\n",
    "    def __init__(self, users_count, items_count, embedding_dim):\n",
    "        super().__init__()\n",
    "        self.user_embeddings = nn.Embedding(users_count, embedding_dim)\n",
    "        self.item_embeddings = nn.Embedding(items_count, embedding_dim)\n",
    "        \n",
    "    def forward(self, user, items):\n",
    "        user_embedding = self.user_embeddings(user)\n",
    "        item_embeddings = self.item_embeddings(items)\n",
    "        return [user_embedding, item_embeddings]"
   ]
  },
  {
   "cell_type": "code",
   "execution_count": 5,
   "id": "convinced-township",
   "metadata": {},
   "outputs": [],
   "source": [
    "class DrrAveState(nn.Module):\n",
    "    def __init__(self, embedding_dim):\n",
    "        super().__init__()\n",
    "        self.conv = torch.nn.Conv1d(in_channels=embedding_dim, out_channels=1, kernel_size=1)\n",
    "        self.avg_pool = torch.nn.AvgPool1d(kernel_size=1)\n",
    "        \n",
    "    def forward(self, item_embeddings):\n",
    "        drr_ave = self.conv(item_embeddings)\n",
    "        drr_ave = self.avg_pool(drr_ave).squeeze(1)\n",
    "        return torch.cat((user_embedding, user_embedding * drr_ave, drr_ave), 1)"
   ]
  },
  {
   "cell_type": "code",
   "execution_count": 6,
   "id": "visible-nutrition",
   "metadata": {},
   "outputs": [],
   "source": [
    "user = 1\n",
    "\n",
    "itemsForFirstUser = torch.LongTensor(df[df[0]==str(user)][1].to_numpy(dtype = float))\n",
    "embedding_dim = len(itemsForFirstUser)\n",
    "\n",
    "user_movie_embedding = UserMovieEmbedding(len(users), len(items), embedding_dim)\n",
    "user_embedding, item_embeddings = user_movie_embedding(torch.LongTensor([user]),  torch.LongTensor(np.expand_dims(itemsForFirstUser, axis=0)))\n",
    "\n",
    "drrAveState = DrrAveState(embedding_dim)\n",
    "state = drrAveState(item_embeddings)"
   ]
  },
  {
   "cell_type": "code",
   "execution_count": 7,
   "id": "popular-salad",
   "metadata": {},
   "outputs": [],
   "source": [
    "class Actor(nn.Module):\n",
    "    \n",
    "    def __init__(self, state_dim, hidden_dim, output_dim):\n",
    "        super().__init__()        \n",
    "        self.lin1 = nn.Linear(in_features=state_dim, out_features=hidden_dim)\n",
    "        self.lin2 = nn.Linear(in_features=hidden_dim, out_features=hidden_dim)\n",
    "        self.lin3 = nn.Linear(in_features=hidden_dim, out_features=output_dim)\n",
    "\n",
    "    def forward(self, state):\n",
    "        new_state = torch.relu(self.lin1(state))\n",
    "        new_state = torch.relu(self.lin2(new_state))\n",
    "        action = torch.tanh(self.lin3(new_state))\n",
    "        return action\n",
    "    \n",
    "def calc_ranking(item_embedding, actor_output):\n",
    "    return torch.matmul(item_embedding, actor_output[0])\n"
   ]
  },
  {
   "cell_type": "code",
   "execution_count": 8,
   "id": "greek-headquarters",
   "metadata": {},
   "outputs": [],
   "source": [
    "actor = Actor(len(state[0]), embedding_dim, embedding_dim)"
   ]
  },
  {
   "cell_type": "code",
   "execution_count": 9,
   "id": "antique-component",
   "metadata": {},
   "outputs": [],
   "source": [
    "action = actor(state)"
   ]
  },
  {
   "cell_type": "code",
   "execution_count": 10,
   "id": "present-montana",
   "metadata": {},
   "outputs": [
    {
     "data": {
      "text/plain": [
       "tensor(-1.5406, grad_fn=<DotBackward>)"
      ]
     },
     "execution_count": 10,
     "metadata": {},
     "output_type": "execute_result"
    }
   ],
   "source": [
    "item_embed = user_movie_embedding.item_embeddings(torch.LongTensor(np.array(df[df[0]==str(user)][1][0], dtype=float)))\n",
    "calc_ranking(item_embed, action)"
   ]
  }
 ],
 "metadata": {
  "kernelspec": {
   "display_name": "Python 3",
   "language": "python",
   "name": "python3"
  },
  "language_info": {
   "codemirror_mode": {
    "name": "ipython",
    "version": 3
   },
   "file_extension": ".py",
   "mimetype": "text/x-python",
   "name": "python",
   "nbconvert_exporter": "python",
   "pygments_lexer": "ipython3",
   "version": "3.7.10"
  }
 },
 "nbformat": 4,
 "nbformat_minor": 5
}
